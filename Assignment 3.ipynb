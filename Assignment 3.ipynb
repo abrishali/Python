{
 "cells": [
  {
   "cell_type": "code",
   "execution_count": 3,
   "id": "fed08ed0",
   "metadata": {},
   "outputs": [
    {
     "name": "stdout",
     "output_type": "stream",
     "text": [
      "Twinkle, twinkle, little star, \n",
      "\tHow I wonder what you are! \n",
      "\t\tUp above the world so high, d in the sky. \n",
      "Twinkle, twinkle, little star, \n",
      "\tHow I wonder what you are!\n"
     ]
    }
   ],
   "source": [
    "print(\"Twinkle, twinkle, little star, \\n\\tHow I wonder what you are! \\n\\t\\tUp above the world so high, d in the sky. \\nTwinkle, twinkle, little star, \\n\\tHow I wonder what you are!\")"
   ]
  },
  {
   "cell_type": "code",
   "execution_count": 4,
   "id": "5599e27c",
   "metadata": {},
   "outputs": [
    {
     "name": "stdout",
     "output_type": "stream",
     "text": [
      "Python version\n",
      "3.8.8 (default, Apr 13 2021, 15:08:03) [MSC v.1916 64 bit (AMD64)]\n",
      "Version info.\n",
      "sys.version_info(major=3, minor=8, micro=8, releaselevel='final', serial=0)\n"
     ]
    }
   ],
   "source": [
    "import sys\n",
    "print(\"Python version\")\n",
    "print (sys.version)\n",
    "print(\"Version info.\")\n",
    "print (sys.version_info)"
   ]
  },
  {
   "cell_type": "code",
   "execution_count": 5,
   "id": "bbfccb45",
   "metadata": {},
   "outputs": [
    {
     "name": "stdout",
     "output_type": "stream",
     "text": [
      "Current date and time : \n",
      "2021-10-25 02:06:41\n"
     ]
    }
   ],
   "source": [
    "import datetime\n",
    "now = datetime.datetime.now()\n",
    "print (\"Current date and time : \")\n",
    "print (now.strftime(\"%Y-%m-%d %H:%M:%S\"))\n"
   ]
  },
  {
   "cell_type": "code",
   "execution_count": 6,
   "id": "55331804",
   "metadata": {},
   "outputs": [
    {
     "name": "stdout",
     "output_type": "stream",
     "text": [
      "Enter the Radius of the Circle: 2.5\n",
      " Area OF the Circle is:  19.625\n"
     ]
    }
   ],
   "source": [
    "radius = float(input(\"Enter the Radius of the Circle: \"));\n",
    "area = 3.14 * radius * radius;\n",
    "print( \" Area OF the Circle is: \",area);"
   ]
  },
  {
   "cell_type": "code",
   "execution_count": 7,
   "id": "816203ac",
   "metadata": {},
   "outputs": [
    {
     "name": "stdout",
     "output_type": "stream",
     "text": [
      "Enter your Name: Razia Sultana\n",
      "Enter your Last Name: Sultana\n",
      "Sultana Razia Sultana\n"
     ]
    }
   ],
   "source": [
    "Name = input(\"Enter your Name: \");\n",
    "LName = input(\"Enter your Last Name: \");\n",
    "print(LName,Name);"
   ]
  },
  {
   "cell_type": "code",
   "execution_count": 8,
   "id": "617b099f",
   "metadata": {},
   "outputs": [
    {
     "name": "stdout",
     "output_type": "stream",
     "text": [
      "Enter your Name: Razia\n",
      "Enter your Last Name: Sultana\n",
      "Sultana Razia\n"
     ]
    }
   ],
   "source": [
    "Name = input(\"Enter your Name: \");\n",
    "LName = input(\"Enter your Last Name: \");\n",
    "print(LName,Name);"
   ]
  },
  {
   "cell_type": "code",
   "execution_count": 12,
   "id": "c9212c07",
   "metadata": {},
   "outputs": [
    {
     "name": "stdout",
     "output_type": "stream",
     "text": [
      "enter first number : 10\n",
      "enter second number : 20\n",
      "sum of 10 and 20 is 30\n"
     ]
    }
   ],
   "source": [
    "a=int(input(\"enter first number : \"))\n",
    "\n",
    "b=int(input(\"enter second number : \"))\n",
    "\n",
    "print(\"sum of\",a, \"and\",b,\"is\",a+b)"
   ]
  },
  {
   "cell_type": "code",
   "execution_count": 14,
   "id": "25eaf29c",
   "metadata": {},
   "outputs": [
    {
     "name": "stdout",
     "output_type": "stream",
     "text": [
      "Enter the marks of five subjects::\n",
      "23\n",
      "43\n",
      "54\n",
      "54\n",
      "98\n",
      "\n",
      "The Total marks is:   \t 272.0 / 500.00\n",
      "\n",
      "The Average marks is: \t 54.4\n",
      "\n",
      "The Percentage is:    \t 54.400000000000006 %\n",
      "\n",
      "The Grade is:         \t E\n"
     ]
    }
   ],
   "source": [
    "# Python Program to Calculate Total Marks Percentage and Grade of a Student\n",
    "\n",
    "print(\"Enter the marks of five subjects::\")\n",
    "\n",
    "subject_1 = float (input ())\n",
    "subject_2 = float (input ())\n",
    "subject_3 = float (input ())\n",
    "subject_4 = float (input ())\n",
    "subject_5 = float (input ())\n",
    "\n",
    "total, average, percentage, grade = None, None, None, None\n",
    "\n",
    "# It will calculate the Total, Average and Percentage\n",
    "total = subject_1 + subject_2 + subject_3 + subject_4 + subject_5\n",
    "average = total / 5.0\n",
    "percentage = (total / 500.0) * 100\n",
    "\n",
    "if average >= 90:\n",
    "    grade = 'A'\n",
    "elif average >= 80 and average < 90:\n",
    "    grade = 'B'\n",
    "elif average >= 70 and average < 80:\n",
    "    grade = 'C'\n",
    "elif average >= 60 and average < 70:\n",
    "    grade = 'D'\n",
    "else:\n",
    "    grade = 'E'\n",
    "\n",
    "# It will produce the final output\n",
    "print (\"\\nThe Total marks is:   \\t\", total, \"/ 500.00\")\n",
    "print (\"\\nThe Average marks is: \\t\", average)\n",
    "print (\"\\nThe Percentage is:    \\t\", percentage, \"%\")\n",
    "print (\"\\nThe Grade is:         \\t\", grade)"
   ]
  },
  {
   "cell_type": "code",
   "execution_count": 17,
   "id": "87d7f95b",
   "metadata": {},
   "outputs": [
    {
     "name": "stdout",
     "output_type": "stream",
     "text": [
      "Enter a number: 354\n",
      "354 is Even\n"
     ]
    }
   ],
   "source": [
    "# Python program to check if the input number is odd or even.\n",
    "# A number is even if division by 2 gives a remainder of 0.\n",
    "# If the remainder is 1, it is an odd number.\n",
    "\n",
    "num = int(input(\"Enter a number: \"))\n",
    "if (num % 2) == 0:\n",
    "   print(\"{0} is Even\".format(num))\n",
    "else:\n",
    "   print(\"{0} is Odd\".format(num))"
   ]
  },
  {
   "cell_type": "code",
   "execution_count": 18,
   "id": "4289001d",
   "metadata": {},
   "outputs": [
    {
     "name": "stdout",
     "output_type": "stream",
     "text": [
      "The length of list is:  4\n"
     ]
    }
   ],
   "source": [
    "# Python program to demonstrate working\n",
    "# of len()\n",
    "a = []\n",
    "a.append(\"Hello\")\n",
    "a.append(\"Geeks\")\n",
    "a.append(\"For\")\n",
    "a.append(\"Geeks\")\n",
    "print(\"The length of list is: \", len(a))\n"
   ]
  },
  {
   "cell_type": "code",
   "execution_count": 19,
   "id": "affa5cb8",
   "metadata": {},
   "outputs": [
    {
     "name": "stdout",
     "output_type": "stream",
     "text": [
      "-5\n"
     ]
    }
   ],
   "source": [
    "def sum_list(items):\n",
    "    sum_numbers = 0\n",
    "    for x in items:\n",
    "        sum_numbers += x\n",
    "    return sum_numbers\n",
    "print(sum_list([1,2,-8]))\n"
   ]
  },
  {
   "cell_type": "code",
   "execution_count": 20,
   "id": "6795fad1",
   "metadata": {},
   "outputs": [
    {
     "name": "stdout",
     "output_type": "stream",
     "text": [
      "2\n"
     ]
    }
   ],
   "source": [
    "def max_num_in_list( list ):\n",
    "    max = list[ 0 ]\n",
    "    for a in list:\n",
    "        if a > max:\n",
    "            max = a\n",
    "    return max\n",
    "print(max_num_in_list([1, 2, -8, 0]))\n"
   ]
  },
  {
   "cell_type": "code",
   "execution_count": 22,
   "id": "945e383b",
   "metadata": {},
   "outputs": [
    {
     "name": "stdout",
     "output_type": "stream",
     "text": [
      "Pick a number: 3\n",
      "[1]\n",
      "[1, 1]\n",
      "[1, 1, 2]\n",
      "[1, 1, 2]\n",
      "[1, 1, 2]\n",
      "[1, 1, 2]\n",
      "[1, 1, 2]\n",
      "[1, 1, 2]\n",
      "[1, 1, 2]\n",
      "[1, 1, 2]\n",
      "[1, 1, 2]\n"
     ]
    }
   ],
   "source": [
    "a = [1, 1, 2, 3, 5, 8, 13, 21, 34, 55, 89]\n",
    "number = int(input(\"Pick a number: \"))\n",
    "new_list = []\n",
    "for item in a:\n",
    "    if item < number:\n",
    "        new_list.append(item)\n",
    "    print(new_list)"
   ]
  },
  {
   "cell_type": "code",
   "execution_count": null,
   "id": "83e2cee6",
   "metadata": {},
   "outputs": [],
   "source": []
  }
 ],
 "metadata": {
  "kernelspec": {
   "display_name": "Python 3",
   "language": "python",
   "name": "python3"
  },
  "language_info": {
   "codemirror_mode": {
    "name": "ipython",
    "version": 3
   },
   "file_extension": ".py",
   "mimetype": "text/x-python",
   "name": "python",
   "nbconvert_exporter": "python",
   "pygments_lexer": "ipython3",
   "version": "3.8.8"
  }
 },
 "nbformat": 4,
 "nbformat_minor": 5
}
